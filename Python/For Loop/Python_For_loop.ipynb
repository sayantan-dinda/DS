{
  "nbformat": 4,
  "nbformat_minor": 0,
  "metadata": {
    "colab": {
      "provenance": []
    },
    "kernelspec": {
      "name": "python3",
      "display_name": "Python 3"
    },
    "language_info": {
      "name": "python"
    }
  },
  "cells": [
    {
      "cell_type": "markdown",
      "source": [
        "# Basic Level:"
      ],
      "metadata": {
        "id": "mOD5DKSrQaBi"
      }
    },
    {
      "cell_type": "code",
      "execution_count": null,
      "metadata": {
        "colab": {
          "base_uri": "https://localhost:8080/"
        },
        "id": "7vh1KJwiQRF3",
        "outputId": "151c3ea8-8a20-47e8-9a8f-3cdc3e141f2b"
      },
      "outputs": [
        {
          "output_type": "stream",
          "name": "stdout",
          "text": [
            "1 2 3 4 5 6 7 8 9 10 "
          ]
        }
      ],
      "source": [
        "# 1\n",
        "\n",
        "for i in range(1,11):\n",
        "  print(i,end=\" \")"
      ]
    },
    {
      "cell_type": "code",
      "source": [
        "# 2\n",
        "\n",
        "l = [1,2,3,4,5,6,7,8,9,10]\n",
        "sum = 0\n",
        "for i in l:\n",
        "  sum+=i\n",
        "print(f\"Sum of all numbers in the list is: {sum}\")"
      ],
      "metadata": {
        "colab": {
          "base_uri": "https://localhost:8080/"
        },
        "id": "BljrWCudQmC4",
        "outputId": "cc62c1c8-3d38-45cd-8b03-d180926c8111"
      },
      "execution_count": null,
      "outputs": [
        {
          "output_type": "stream",
          "name": "stdout",
          "text": [
            "Sum of all numbers in the list is: 55\n"
          ]
        }
      ]
    },
    {
      "cell_type": "code",
      "source": [
        "# 3\n",
        "\n",
        "s = \"sayantan\"\n",
        "for i in range(len(s)-1,-1,-1):\n",
        "  print(s[i],end=\" \")"
      ],
      "metadata": {
        "colab": {
          "base_uri": "https://localhost:8080/"
        },
        "id": "GSTS8W_WQ56d",
        "outputId": "4fcc698f-712b-4862-da90-3c9daf554b6f"
      },
      "execution_count": null,
      "outputs": [
        {
          "output_type": "stream",
          "name": "stdout",
          "text": [
            "n a t n a y a s "
          ]
        }
      ]
    },
    {
      "cell_type": "code",
      "source": [
        "# 4\n",
        "\n",
        "fact = 1\n",
        "num = int(input(\"Enter a number: \"))\n",
        "for i in range(1,num+1):\n",
        "  fact*=i\n",
        "print(f\"factorial of {num} is: {fact}\")"
      ],
      "metadata": {
        "colab": {
          "base_uri": "https://localhost:8080/"
        },
        "id": "1LYcTzFURaHm",
        "outputId": "806b5637-888e-4169-b8cd-9c1310f36513"
      },
      "execution_count": null,
      "outputs": [
        {
          "output_type": "stream",
          "name": "stdout",
          "text": [
            "Enter a number: 5\n",
            "factorial of 5 is: 120\n"
          ]
        }
      ]
    },
    {
      "cell_type": "code",
      "source": [
        "# 5\n",
        "\n",
        "num = int(input(\"Enter a number: \"))\n",
        "for i in range(1,11):\n",
        "  print(f\"{num} x {i} : {num*i}\")"
      ],
      "metadata": {
        "colab": {
          "base_uri": "https://localhost:8080/"
        },
        "id": "CFvPx11USX5u",
        "outputId": "beae8a3f-76db-48b6-ecd8-5dbc8ca4af18"
      },
      "execution_count": null,
      "outputs": [
        {
          "output_type": "stream",
          "name": "stdout",
          "text": [
            "Enter a number: 13\n",
            "13 x 1 : 13\n",
            "13 x 2 : 26\n",
            "13 x 3 : 39\n",
            "13 x 4 : 52\n",
            "13 x 5 : 65\n",
            "13 x 6 : 78\n",
            "13 x 7 : 91\n",
            "13 x 8 : 104\n",
            "13 x 9 : 117\n",
            "13 x 10 : 130\n"
          ]
        }
      ]
    },
    {
      "cell_type": "code",
      "source": [
        "# 6\n",
        "\n",
        "l = [1,2,3,4,5,6,7,8,9,10]\n",
        "odd = 0\n",
        "even = 0\n",
        "for i in l:\n",
        "  if(i%2==0):\n",
        "    even+=1\n",
        "  else:\n",
        "    odd+=1\n",
        "print(f\"Even: {even} and Odd: {odd}\")"
      ],
      "metadata": {
        "colab": {
          "base_uri": "https://localhost:8080/"
        },
        "id": "4gvBYf7XSw-c",
        "outputId": "4da2d8a7-900b-48d2-92cb-ad6c21064d07"
      },
      "execution_count": null,
      "outputs": [
        {
          "output_type": "stream",
          "name": "stdout",
          "text": [
            "Even: 5 and Odd: 5\n"
          ]
        }
      ]
    },
    {
      "cell_type": "code",
      "source": [
        "# 7\n",
        "\n",
        "for i in range(1,6):\n",
        "  print(f\"Square of {i}: {i*i}\")"
      ],
      "metadata": {
        "colab": {
          "base_uri": "https://localhost:8080/"
        },
        "id": "pzjk73AJTXeN",
        "outputId": "9725f659-c847-45ca-a0db-1474815f931b"
      },
      "execution_count": null,
      "outputs": [
        {
          "output_type": "stream",
          "name": "stdout",
          "text": [
            "Square of 1: 1\n",
            "Square of 2: 4\n",
            "Square of 3: 9\n",
            "Square of 4: 16\n",
            "Square of 5: 25\n"
          ]
        }
      ]
    },
    {
      "cell_type": "code",
      "source": [
        "# 8\n",
        "\n",
        "count = 0\n",
        "s = \"sayantan\"\n",
        "for i in s:\n",
        "  count+=1\n",
        "print(f\"Length of the string is: {count}\")"
      ],
      "metadata": {
        "colab": {
          "base_uri": "https://localhost:8080/"
        },
        "id": "vD-k5uZxTsMP",
        "outputId": "9119a290-b4a3-47b8-9e48-21ce53838e86"
      },
      "execution_count": null,
      "outputs": [
        {
          "output_type": "stream",
          "name": "stdout",
          "text": [
            "Length of the string is: 8\n"
          ]
        }
      ]
    },
    {
      "cell_type": "code",
      "source": [
        "# 9\n",
        "\n",
        "l = [1,2,3,4,5,6,7,8,9,10]\n",
        "avg = 0\n",
        "sum = 0\n",
        "for i in l:\n",
        "  sum +=i\n",
        "avg = sum / len(l)\n",
        "print(f\"Average of numbers in the list is: {avg}\")"
      ],
      "metadata": {
        "colab": {
          "base_uri": "https://localhost:8080/"
        },
        "id": "l7gVTvO1T8Or",
        "outputId": "02a99b79-fa56-47db-91b1-ec8ea1cc00f4"
      },
      "execution_count": null,
      "outputs": [
        {
          "output_type": "stream",
          "name": "stdout",
          "text": [
            "Average of numbers in the list is: 5.5\n"
          ]
        }
      ]
    },
    {
      "cell_type": "code",
      "source": [
        "# 10\n",
        "a = 0\n",
        "b = 1\n",
        "c = 0\n",
        "num = int(input(\"Enter value: \"))\n",
        "if(num==0):\n",
        "  print(f\"{a}\")\n",
        "elif(num==1):\n",
        "  print(f\"{b}\")\n",
        "else:\n",
        "  for i in range(2,num+1):\n",
        "    c = a+b\n",
        "    a = b\n",
        "    b = c\n",
        "  print(f\"{c}\")"
      ],
      "metadata": {
        "colab": {
          "base_uri": "https://localhost:8080/"
        },
        "id": "HtJD252oWiDp",
        "outputId": "501270d2-7f73-484d-84ab-26fefa94d7ee"
      },
      "execution_count": null,
      "outputs": [
        {
          "output_type": "stream",
          "name": "stdout",
          "text": [
            "Enter value: 9\n",
            "34\n"
          ]
        }
      ]
    },
    {
      "cell_type": "markdown",
      "source": [
        "# Intermediate Level:"
      ],
      "metadata": {
        "id": "zDQeKFOJY7iY"
      }
    },
    {
      "cell_type": "code",
      "source": [
        "# 11\n",
        "\n",
        "flag = False\n",
        "l = [1,2,1,3,4]\n",
        "for i in l:\n",
        "  for j in range(1,len(l)):\n",
        "    if(i==l[j]):\n",
        "      flag = True\n",
        "if(flag):\n",
        "  print(\"Contain duplicate\")\n",
        "else:\n",
        "  print(\"Does not contain duplicate\")"
      ],
      "metadata": {
        "id": "Mo8JmKcoYmT-",
        "colab": {
          "base_uri": "https://localhost:8080/"
        },
        "outputId": "efa43f30-66b9-498e-8a7a-39cb9bbc316d"
      },
      "execution_count": null,
      "outputs": [
        {
          "output_type": "stream",
          "name": "stdout",
          "text": [
            "Contain duplicate\n"
          ]
        }
      ]
    },
    {
      "cell_type": "code",
      "source": [
        "# 12\n",
        "flag = False\n",
        "num1 = int(input(\"Enter starting range: \"))\n",
        "num2 = int(input(\"Enter ending range: \"))\n",
        "for i in range(num1,num2+1):\n",
        "  if i>1:\n",
        "    for j in range(2,i):\n",
        "      if(i%j==0):\n",
        "        break\n",
        "    else:\n",
        "      print(i,end=\" \")\n"
      ],
      "metadata": {
        "colab": {
          "base_uri": "https://localhost:8080/"
        },
        "id": "4UH3VI5V0LAZ",
        "outputId": "bd3a9549-77f8-489a-c534-7fce947348e8"
      },
      "execution_count": null,
      "outputs": [
        {
          "output_type": "stream",
          "name": "stdout",
          "text": [
            "Enter starting range: 1\n",
            "Enter ending range: 11\n",
            "2 3 5 7 11 "
          ]
        }
      ]
    },
    {
      "cell_type": "code",
      "source": [
        "# 13\n",
        "\n",
        "vow = \"aeiouAEIOU\"\n",
        "str1 = \"sayantan\"\n",
        "count = 0\n",
        "for i in str1:\n",
        "  if(i in vow):\n",
        "    count+=1\n",
        "print(f\"No of vowels: {count}\")"
      ],
      "metadata": {
        "colab": {
          "base_uri": "https://localhost:8080/"
        },
        "id": "Ddsf4unv3AEk",
        "outputId": "56c766ce-9cc5-44a1-e529-7b6ebd9257a4"
      },
      "execution_count": null,
      "outputs": [
        {
          "output_type": "stream",
          "name": "stdout",
          "text": [
            "No of vowels: 3\n"
          ]
        }
      ]
    },
    {
      "cell_type": "code",
      "source": [
        "# 14\n",
        "\n",
        "l = [[1,2,3,4,5],[6,7,8,9,10]]\n",
        "max = 0\n",
        "for i in l:\n",
        "  for j in i:\n",
        "    if(j>max):\n",
        "      max = j\n",
        "print(f\"Maxium element: {max}\")"
      ],
      "metadata": {
        "colab": {
          "base_uri": "https://localhost:8080/"
        },
        "id": "A9hpn1iy5ba6",
        "outputId": "3ff74d35-6226-4226-e90d-5def978b9c7c"
      },
      "execution_count": null,
      "outputs": [
        {
          "output_type": "stream",
          "name": "stdout",
          "text": [
            "Maxium element: 10\n"
          ]
        }
      ]
    },
    {
      "cell_type": "code",
      "source": [
        "# 15\n",
        "\n",
        "l = [1,2,3,1,4,1]\n",
        "j=[]\n",
        "num = 1\n",
        "for i in l:\n",
        "  if(i!=num):\n",
        "    j.append(i)\n",
        "print(j)"
      ],
      "metadata": {
        "colab": {
          "base_uri": "https://localhost:8080/"
        },
        "id": "m7a8pqg25wn8",
        "outputId": "f0fad525-5a65-4b92-ddfc-614e2f016a1d"
      },
      "execution_count": null,
      "outputs": [
        {
          "output_type": "stream",
          "name": "stdout",
          "text": [
            "[2, 3, 4]\n"
          ]
        }
      ]
    },
    {
      "cell_type": "code",
      "source": [
        "# 16\n",
        "\n",
        "for i in range(1,6):\n",
        "  for j in range(1,11):\n",
        "    print(f\"{i} x {j} : {i*j}\")\n",
        "  print(\"-----X-----\")"
      ],
      "metadata": {
        "colab": {
          "base_uri": "https://localhost:8080/"
        },
        "id": "wA7K3pyX6USf",
        "outputId": "442a39f2-3dd2-4a59-9293-d420bfe628b6"
      },
      "execution_count": null,
      "outputs": [
        {
          "output_type": "stream",
          "name": "stdout",
          "text": [
            "1 x 1 : 1\n",
            "1 x 2 : 2\n",
            "1 x 3 : 3\n",
            "1 x 4 : 4\n",
            "1 x 5 : 5\n",
            "1 x 6 : 6\n",
            "1 x 7 : 7\n",
            "1 x 8 : 8\n",
            "1 x 9 : 9\n",
            "1 x 10 : 10\n",
            "-----X-----\n",
            "2 x 1 : 2\n",
            "2 x 2 : 4\n",
            "2 x 3 : 6\n",
            "2 x 4 : 8\n",
            "2 x 5 : 10\n",
            "2 x 6 : 12\n",
            "2 x 7 : 14\n",
            "2 x 8 : 16\n",
            "2 x 9 : 18\n",
            "2 x 10 : 20\n",
            "-----X-----\n",
            "3 x 1 : 3\n",
            "3 x 2 : 6\n",
            "3 x 3 : 9\n",
            "3 x 4 : 12\n",
            "3 x 5 : 15\n",
            "3 x 6 : 18\n",
            "3 x 7 : 21\n",
            "3 x 8 : 24\n",
            "3 x 9 : 27\n",
            "3 x 10 : 30\n",
            "-----X-----\n",
            "4 x 1 : 4\n",
            "4 x 2 : 8\n",
            "4 x 3 : 12\n",
            "4 x 4 : 16\n",
            "4 x 5 : 20\n",
            "4 x 6 : 24\n",
            "4 x 7 : 28\n",
            "4 x 8 : 32\n",
            "4 x 9 : 36\n",
            "4 x 10 : 40\n",
            "-----X-----\n",
            "5 x 1 : 5\n",
            "5 x 2 : 10\n",
            "5 x 3 : 15\n",
            "5 x 4 : 20\n",
            "5 x 5 : 25\n",
            "5 x 6 : 30\n",
            "5 x 7 : 35\n",
            "5 x 8 : 40\n",
            "5 x 9 : 45\n",
            "5 x 10 : 50\n",
            "-----X-----\n"
          ]
        }
      ]
    },
    {
      "cell_type": "code",
      "source": [
        "# 17\n",
        "\n",
        "l = [158,176,194,212]\n",
        "for i in l:\n",
        "  cel = ((i-32)*5)/9\n",
        "  print(cel,end=\" \")"
      ],
      "metadata": {
        "colab": {
          "base_uri": "https://localhost:8080/"
        },
        "id": "UzOEINyb-thg",
        "outputId": "4fd5440f-f47b-4187-985e-cc6c054ac8a7"
      },
      "execution_count": null,
      "outputs": [
        {
          "output_type": "stream",
          "name": "stdout",
          "text": [
            "70.0 80.0 90.0 100.0 "
          ]
        }
      ]
    },
    {
      "cell_type": "code",
      "source": [
        "# 18\n",
        "\n",
        "l1 = [1,2,3,4,5]\n",
        "l2 = [1,2,3,6,7]\n",
        "for i in l1:\n",
        "  if i in l2:\n",
        "    print(i,end=\" \")"
      ],
      "metadata": {
        "colab": {
          "base_uri": "https://localhost:8080/"
        },
        "id": "omYmwPio_SHw",
        "outputId": "dc147db0-900c-46bf-ff2a-3606b8d47dac"
      },
      "execution_count": null,
      "outputs": [
        {
          "output_type": "stream",
          "name": "stdout",
          "text": [
            "1 2 3 "
          ]
        }
      ]
    },
    {
      "cell_type": "code",
      "source": [
        "# 19\n",
        "\n",
        "for i in range(5):\n",
        "  for j in range(i+1):\n",
        "    print(\"*\",end='')\n",
        "  print(\"\")"
      ],
      "metadata": {
        "colab": {
          "base_uri": "https://localhost:8080/"
        },
        "id": "fjKGKeLh_v35",
        "outputId": "23de6f35-530a-419c-854f-95b73ba47055"
      },
      "execution_count": null,
      "outputs": [
        {
          "output_type": "stream",
          "name": "stdout",
          "text": [
            "*\n",
            "**\n",
            "***\n",
            "****\n",
            "*****\n"
          ]
        }
      ]
    },
    {
      "cell_type": "code",
      "source": [
        "# 20\n",
        "\n",
        "num1 = int(input(\"Enter no 1: \"))\n",
        "num2 = int(input(\"Enter no 2: \"))\n",
        "div = 0\n",
        "for i in range(1,min(num1,num2)+1):\n",
        "  if(num1%i==0 and num2%i==0):\n",
        "    div = i\n",
        "print(f\"Gcd of {num1} and {num2} is: {div}\")"
      ],
      "metadata": {
        "colab": {
          "base_uri": "https://localhost:8080/"
        },
        "id": "i4zAcQl2aFs2",
        "outputId": "ea87a869-320a-4b84-a369-d135133f0402"
      },
      "execution_count": null,
      "outputs": [
        {
          "output_type": "stream",
          "name": "stdout",
          "text": [
            "Enter no 1: 15\n",
            "Enter no 2: 20\n",
            "Gcd of 15 and 20 is: 5\n"
          ]
        }
      ]
    },
    {
      "cell_type": "markdown",
      "source": [
        "# Advanced Level:"
      ],
      "metadata": {
        "id": "NkAvpDvzmooU"
      }
    },
    {
      "cell_type": "code",
      "source": [
        "# 21\n",
        "\n",
        "l = [1,2,3,4,5,6,7,8,9,10]\n",
        "res = sum([i for i in l])\n",
        "print(f\"Sum: {res}\")"
      ],
      "metadata": {
        "id": "X09gHP70bQkz",
        "colab": {
          "base_uri": "https://localhost:8080/"
        },
        "outputId": "a9cb6a48-ca90-45c3-c430-494786c0594e"
      },
      "execution_count": null,
      "outputs": [
        {
          "output_type": "stream",
          "name": "stdout",
          "text": [
            "Sum: 55\n"
          ]
        }
      ]
    },
    {
      "cell_type": "code",
      "source": [
        "# 22\n",
        "\n",
        "num = int(input(\"Enter a number: \"))\n",
        "fact = []\n",
        "div = 2\n",
        "while div<=num:\n",
        "  if num%div==0:\n",
        "    fact.append(div)\n",
        "    num=num/div\n",
        "  else:\n",
        "    div+=1\n",
        "print(f\"Prime factor of {num} is: {fact}\")"
      ],
      "metadata": {
        "id": "EqrlATgAnspC",
        "colab": {
          "base_uri": "https://localhost:8080/"
        },
        "outputId": "4d1f8b53-7693-4262-9a79-eb7918eb5a4b"
      },
      "execution_count": null,
      "outputs": [
        {
          "output_type": "stream",
          "name": "stdout",
          "text": [
            "Enter a number: 315\n",
            "Prime factor of 1.0 is: [3, 3, 5, 7]\n"
          ]
        }
      ]
    },
    {
      "cell_type": "code",
      "source": [
        " # 23\n",
        "\n",
        "l = [1,2,2,3,4,4,4,5,6,6]\n",
        "new_l = [i for i in l if l.count(i)==1]\n",
        "print(f\"Unique elements: {new_l}\")"
      ],
      "metadata": {
        "id": "LRmyNcDLKYrT",
        "colab": {
          "base_uri": "https://localhost:8080/"
        },
        "outputId": "08019872-d527-406b-84c5-99aad07aae45"
      },
      "execution_count": null,
      "outputs": [
        {
          "output_type": "stream",
          "name": "stdout",
          "text": [
            "Unique elements: [1, 3, 5]\n"
          ]
        }
      ]
    },
    {
      "cell_type": "code",
      "source": [
        "# 24\n",
        "\n",
        "limit = int(input(\"Enter a number: \"))\n",
        "l = [i for i in range(1,limit+1) if(str(i)==str(i)[::-1])]\n",
        "print(l)"
      ],
      "metadata": {
        "colab": {
          "base_uri": "https://localhost:8080/"
        },
        "id": "kk0JWK-RTH4p",
        "outputId": "3d1e017d-cb8c-4e32-fd95-74a5c198f59d"
      },
      "execution_count": null,
      "outputs": [
        {
          "output_type": "stream",
          "name": "stdout",
          "text": [
            "Enter a number: 121\n",
            "[1, 2, 3, 4, 5, 6, 7, 8, 9, 11, 22, 33, 44, 55, 66, 77, 88, 99, 101, 111, 121]\n"
          ]
        }
      ]
    },
    {
      "cell_type": "code",
      "source": [
        "# 25\n",
        "\n",
        "l = [[1,2,3],[4,5,6],[7,8,9]]\n",
        "new_l=[j for i in l for j in i]\n",
        "print(new_l)"
      ],
      "metadata": {
        "colab": {
          "base_uri": "https://localhost:8080/"
        },
        "id": "gwcLUjz4UYMp",
        "outputId": "d7da5832-46a3-4a6b-cbb1-da636ea550d2"
      },
      "execution_count": null,
      "outputs": [
        {
          "output_type": "stream",
          "name": "stdout",
          "text": [
            "[1, 2, 3, 4, 5, 6, 7, 8, 9]\n"
          ]
        }
      ]
    },
    {
      "cell_type": "code",
      "source": [
        "# 26\n",
        "\n",
        "l = [1,2,3,4,5,6,7,8,9,10]\n",
        "ev_l = [i for i in l if(i%2==0)]\n",
        "od_l = [i for i in l if(i%2!=0)]\n",
        "print(f\"Sum of Even: {sum(ev_l)} and Sum of Odd: {sum(od_l)}\")"
      ],
      "metadata": {
        "colab": {
          "base_uri": "https://localhost:8080/"
        },
        "id": "-1Q6cfxZU1hG",
        "outputId": "e84f4201-c2ae-48f1-8f95-6127176116ce"
      },
      "execution_count": null,
      "outputs": [
        {
          "output_type": "stream",
          "name": "stdout",
          "text": [
            "Sum of Even: 30 and Sum of Odd: 25\n"
          ]
        }
      ]
    },
    {
      "cell_type": "code",
      "source": [
        "# 27\n",
        "\n",
        "l = [i**2 for i in range(1,11) if i%2!=0]\n",
        "print(l)"
      ],
      "metadata": {
        "colab": {
          "base_uri": "https://localhost:8080/"
        },
        "id": "a3ZdIOWOVfY0",
        "outputId": "b79d5c5a-9a5b-407b-8e23-67cb320ee7a5"
      },
      "execution_count": null,
      "outputs": [
        {
          "output_type": "stream",
          "name": "stdout",
          "text": [
            "[1, 9, 25, 49, 81]\n"
          ]
        }
      ]
    },
    {
      "cell_type": "code",
      "source": [
        "# 28\n",
        "\n",
        "k = [1,2,3]\n",
        "v = ['a','b','c']\n",
        "dict1 = {k[i]:v[i] for i in range(len(k))}\n",
        "print(dict1)"
      ],
      "metadata": {
        "colab": {
          "base_uri": "https://localhost:8080/"
        },
        "id": "IiVCVx-_XzFD",
        "outputId": "11f69982-2efe-4d05-c33f-7c28c40c2c65"
      },
      "execution_count": null,
      "outputs": [
        {
          "output_type": "stream",
          "name": "stdout",
          "text": [
            "{1: 'a', 2: 'b', 3: 'c'}\n"
          ]
        }
      ]
    },
    {
      "cell_type": "code",
      "source": [
        "# 29\n",
        "\n",
        "vow = \"aeiouAEIOU\"\n",
        "str1 = \"sayantan dinda\"\n",
        "l = [i for i in str1 if i in vow]\n",
        "print(f\"Vowels are: {l}\")"
      ],
      "metadata": {
        "colab": {
          "base_uri": "https://localhost:8080/"
        },
        "id": "481HGuJlYlW8",
        "outputId": "acfaac44-3b3e-4874-b1b5-3908ec7dda28"
      },
      "execution_count": null,
      "outputs": [
        {
          "output_type": "stream",
          "name": "stdout",
          "text": [
            "Vowels are: ['a', 'a', 'a', 'i', 'a']\n"
          ]
        }
      ]
    },
    {
      "cell_type": "code",
      "source": [
        " # 30\n",
        "\n",
        "l = ['abc123','def456','ghi789']\n",
        "new_l =[''.join(filter(str.isdigit, s)) for s in l]\n",
        "print(new_l)"
      ],
      "metadata": {
        "colab": {
          "base_uri": "https://localhost:8080/"
        },
        "id": "En1Yu-n7Y7hF",
        "outputId": "a4f6d6bb-2c7a-4ab6-e06b-618bbc5ec03e"
      },
      "execution_count": null,
      "outputs": [
        {
          "output_type": "stream",
          "name": "stdout",
          "text": [
            "['123', '456', '789']\n"
          ]
        }
      ]
    },
    {
      "cell_type": "markdown",
      "source": [
        "# Challenge Level:"
      ],
      "metadata": {
        "id": "pqF84JrfUeRe"
      }
    },
    {
      "cell_type": "code",
      "source": [
        "# 32\n",
        "\n",
        "def pythagorean_triplets(num):\n",
        "    triplets = [(a, b, c) for a in range(1,num + 1) for b in range(a, num + 1) for c in range(b, num + 1) if a**2 + b**2 == c**2]\n",
        "    return triplets\n",
        "\n",
        "num = int(input(\"Enter the limit: \"))\n",
        "triplets=pythagorean_triplets(num)\n",
        "print(f\"Pythagorean Triplets: {triplets}\")\n"
      ],
      "metadata": {
        "colab": {
          "base_uri": "https://localhost:8080/"
        },
        "id": "oBrLT7fXZV0M",
        "outputId": "5d4f86b9-c498-4b16-92c1-15abb4dbd6d5"
      },
      "execution_count": 4,
      "outputs": [
        {
          "output_type": "stream",
          "name": "stdout",
          "text": [
            "Enter the limit: 5\n",
            "Pythagorean Triplets: [(3, 4, 5)]\n"
          ]
        }
      ]
    },
    {
      "cell_type": "code",
      "source": [
        "# 33\n",
        "\n",
        "l1 = [1, 2, 3]\n",
        "l2 = ['a', 'b', 'c']\n",
        "l = [(x, y) for x in l1 for y in l2]\n",
        "print(f\"Combination: {l}\")"
      ],
      "metadata": {
        "id": "1oQN_d7NZWd2",
        "colab": {
          "base_uri": "https://localhost:8080/"
        },
        "outputId": "bea8b4c6-ee29-4322-e319-652847233634"
      },
      "execution_count": 6,
      "outputs": [
        {
          "output_type": "stream",
          "name": "stdout",
          "text": [
            "Combination: [(1, 'a'), (1, 'b'), (1, 'c'), (2, 'a'), (2, 'b'), (2, 'c'), (3, 'a'), (3, 'b'), (3, 'c')]\n"
          ]
        }
      ]
    },
    {
      "cell_type": "code",
      "source": [
        "# 34\n",
        "\n",
        "import statistics as st\n",
        "l = [1,2,3,4,5,6]\n",
        "mean = sum(l)/len(l)\n",
        "l.sort()\n",
        "print(l)\n",
        "n = len(l)\n",
        "if len(l)%2!=0:\n",
        "  ind = ((n+1)//2)-1\n",
        "  median=l[ind]\n",
        "else:\n",
        "  median = ((l[(n//2)-1]) + l[(n//2)])/2\n",
        "mode=st.mode(l)\n",
        "print(f\"Mean: {mean} || Meadin: {median} || Mode: {mode}\")"
      ],
      "metadata": {
        "colab": {
          "base_uri": "https://localhost:8080/"
        },
        "id": "0IFRkfpJWzcl",
        "outputId": "1a6477f6-3f7f-4613-c58f-37afadf530a9"
      },
      "execution_count": 14,
      "outputs": [
        {
          "output_type": "stream",
          "name": "stdout",
          "text": [
            "[1, 2, 3, 4, 5, 6]\n",
            "Mean: 3.5 || Meadin: 3.5 || Mode: 1\n"
          ]
        }
      ]
    },
    {
      "cell_type": "code",
      "source": [
        "# 35\n",
        "\n",
        "from math import factorial\n",
        "n = int(input(\"Enter row: \"))\n",
        "for i in range(n):\n",
        "    for j in range(n-i+1):\n",
        "        print(end=\" \")\n",
        "    for j in range(i+1):\n",
        "        print(factorial(i)//(factorial(j)*factorial(i-j)), end=\" \")\n",
        "    print()"
      ],
      "metadata": {
        "colab": {
          "base_uri": "https://localhost:8080/"
        },
        "id": "7mwtP1m5ezmm",
        "outputId": "8afcb60a-a34c-4cf0-bba5-b0207951a593"
      },
      "execution_count": 17,
      "outputs": [
        {
          "output_type": "stream",
          "name": "stdout",
          "text": [
            "Enter row: 6\n",
            "       1 \n",
            "      1 1 \n",
            "     1 2 1 \n",
            "    1 3 3 1 \n",
            "   1 4 6 4 1 \n",
            "  1 5 10 10 5 1 \n"
          ]
        }
      ]
    },
    {
      "cell_type": "code",
      "source": [
        "# 36\n",
        "\n",
        "def fact(num):\n",
        "  count=1\n",
        "  for i in range(1,num+1):\n",
        "    count*=i\n",
        "  return count\n",
        "l=[]\n",
        "for i in range(1,6):\n",
        "  l.append(fact(i))\n",
        "print(f\"Sum of factorials: {sum(l)}\")"
      ],
      "metadata": {
        "colab": {
          "base_uri": "https://localhost:8080/"
        },
        "id": "ruXC5tfLf4xB",
        "outputId": "baeff949-cb1a-42ec-cc48-a7b062070204"
      },
      "execution_count": 19,
      "outputs": [
        {
          "output_type": "stream",
          "name": "stdout",
          "text": [
            "Sum of factorials: 153\n"
          ]
        }
      ]
    },
    {
      "cell_type": "code",
      "source": [
        "# 37\n",
        "\n",
        "sen = input(\"Enter a sentence: \")\n",
        "words = sen.split()\n",
        "long_word = max(words, key=len)\n",
        "print(\"longest word: \", long_word)"
      ],
      "metadata": {
        "colab": {
          "base_uri": "https://localhost:8080/"
        },
        "id": "btDRqVL8mDHI",
        "outputId": "c291b8a7-c24a-45bd-9ad6-5527399012ad"
      },
      "execution_count": 20,
      "outputs": [
        {
          "output_type": "stream",
          "name": "stdout",
          "text": [
            "Enter a sentence: my name is sayantan\n",
            "longest word:  sayantan\n"
          ]
        }
      ]
    },
    {
      "cell_type": "code",
      "source": [
        "# 38\n",
        "\n",
        "def count(s):\n",
        "    vowels = \"AEIOUaeiou\"\n",
        "    return sum(1 for char in s if char in vowels)\n",
        "\n",
        "l = [\"apple\", \"banana\", \"grape\", \"kiwi\", \"watermelon\", \"strawberry\"]\n",
        "new_l = [s for s in l if count(s) > 3]\n",
        "print(new_l)"
      ],
      "metadata": {
        "colab": {
          "base_uri": "https://localhost:8080/"
        },
        "id": "QbBcGI6_mcRe",
        "outputId": "89b72685-b7b7-4a8c-879f-a5f7fee7df66"
      },
      "execution_count": 22,
      "outputs": [
        {
          "output_type": "stream",
          "name": "stdout",
          "text": [
            "['watermelon']\n"
          ]
        }
      ]
    },
    {
      "cell_type": "code",
      "source": [
        "# 39\n",
        "\n",
        "l = [i for i in range(1,1001)]\n",
        "print(f\"Sum of digit: {sum(l)}\")"
      ],
      "metadata": {
        "colab": {
          "base_uri": "https://localhost:8080/"
        },
        "id": "StO0nDIznBSU",
        "outputId": "45a3cdc7-3cb9-47a1-cd1a-6772f1deeefe"
      },
      "execution_count": 23,
      "outputs": [
        {
          "output_type": "stream",
          "name": "stdout",
          "text": [
            "Sum of digit: 500500\n"
          ]
        }
      ]
    },
    {
      "cell_type": "code",
      "source": [],
      "metadata": {
        "id": "cO0qDfuwnWcl"
      },
      "execution_count": null,
      "outputs": []
    }
  ]
}