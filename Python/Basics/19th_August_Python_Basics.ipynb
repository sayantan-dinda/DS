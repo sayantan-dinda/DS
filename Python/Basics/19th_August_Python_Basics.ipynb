{
 "cells": [
  {
   "cell_type": "markdown",
   "id": "30262ec1",
   "metadata": {},
   "source": [
    "Python Basics Variable"
   ]
  },
  {
   "cell_type": "code",
   "execution_count": 28,
   "id": "1cb13c56",
   "metadata": {},
   "outputs": [],
   "source": [
    "# Q1"
   ]
  },
  {
   "cell_type": "code",
   "execution_count": 29,
   "id": "e5353cca",
   "metadata": {},
   "outputs": [
    {
     "name": "stdout",
     "output_type": "stream",
     "text": [
      "20 10\n"
     ]
    }
   ],
   "source": [
    "x , y = 20 , 10 # x = 20 y = 10\n",
    "print(x,y)"
   ]
  },
  {
   "cell_type": "code",
   "execution_count": 30,
   "id": "a8ce2b22",
   "metadata": {},
   "outputs": [],
   "source": [
    "x = x + y # x = 20+10 = 30"
   ]
  },
  {
   "cell_type": "code",
   "execution_count": 31,
   "id": "b644bac8",
   "metadata": {},
   "outputs": [],
   "source": [
    "y = x - y # y = 30-10 = 20 --> y = 20"
   ]
  },
  {
   "cell_type": "code",
   "execution_count": 32,
   "id": "d2b57f9b",
   "metadata": {},
   "outputs": [],
   "source": [
    "x = x - y # x= 30-20 = 10 --> x = 10"
   ]
  },
  {
   "cell_type": "code",
   "execution_count": 33,
   "id": "24dd5bc6",
   "metadata": {},
   "outputs": [
    {
     "name": "stdout",
     "output_type": "stream",
     "text": [
      "10 20\n"
     ]
    }
   ],
   "source": [
    "print(x,y)"
   ]
  },
  {
   "cell_type": "code",
   "execution_count": 34,
   "id": "d877d3bd",
   "metadata": {},
   "outputs": [],
   "source": [
    "# Q2"
   ]
  },
  {
   "cell_type": "code",
   "execution_count": 35,
   "id": "0d86346f",
   "metadata": {},
   "outputs": [
    {
     "name": "stdout",
     "output_type": "stream",
     "text": [
      "Enter the length of rectangle: 60\n"
     ]
    }
   ],
   "source": [
    "l = int(input(\"Enter the length of rectangle: \"))"
   ]
  },
  {
   "cell_type": "code",
   "execution_count": 36,
   "id": "3a506a2f",
   "metadata": {},
   "outputs": [
    {
     "name": "stdout",
     "output_type": "stream",
     "text": [
      "Enter the width of rectangle: 40\n"
     ]
    }
   ],
   "source": [
    "w = int(input(\"Enter the width of rectangle: \"))"
   ]
  },
  {
   "cell_type": "code",
   "execution_count": 37,
   "id": "d762cbc6",
   "metadata": {},
   "outputs": [],
   "source": [
    "area = l * w"
   ]
  },
  {
   "cell_type": "code",
   "execution_count": 38,
   "id": "6de9b5e1",
   "metadata": {},
   "outputs": [
    {
     "name": "stdout",
     "output_type": "stream",
     "text": [
      "2400\n"
     ]
    }
   ],
   "source": [
    "print(area)"
   ]
  },
  {
   "cell_type": "code",
   "execution_count": 39,
   "id": "1996c6f3",
   "metadata": {},
   "outputs": [],
   "source": [
    "# Q3"
   ]
  },
  {
   "cell_type": "code",
   "execution_count": 40,
   "id": "61572173",
   "metadata": {},
   "outputs": [
    {
     "name": "stdout",
     "output_type": "stream",
     "text": [
      "Enter temperature in Celsius: 37\n"
     ]
    }
   ],
   "source": [
    "cel = int(input(\"Enter temperature in Celsius: \"))"
   ]
  },
  {
   "cell_type": "code",
   "execution_count": 41,
   "id": "cd91f9ba",
   "metadata": {},
   "outputs": [],
   "source": [
    "fahr = ((cel*9)/5)+32 "
   ]
  },
  {
   "cell_type": "code",
   "execution_count": 42,
   "id": "86e53275",
   "metadata": {},
   "outputs": [
    {
     "name": "stdout",
     "output_type": "stream",
     "text": [
      "98.6\n"
     ]
    }
   ],
   "source": [
    "print(fahr)"
   ]
  },
  {
   "cell_type": "markdown",
   "id": "d19d45b6",
   "metadata": {},
   "source": [
    "String Based Questions"
   ]
  },
  {
   "cell_type": "code",
   "execution_count": 43,
   "id": "54983278",
   "metadata": {},
   "outputs": [],
   "source": [
    "# Q1"
   ]
  },
  {
   "cell_type": "code",
   "execution_count": 44,
   "id": "4ac44c8a",
   "metadata": {},
   "outputs": [
    {
     "name": "stdout",
     "output_type": "stream",
     "text": [
      "Enter your string: Sayantan Dinda\n"
     ]
    }
   ],
   "source": [
    "s1 = input(\"Enter your string: \")"
   ]
  },
  {
   "cell_type": "code",
   "execution_count": 45,
   "id": "e62a2401",
   "metadata": {},
   "outputs": [
    {
     "name": "stdout",
     "output_type": "stream",
     "text": [
      "14\n"
     ]
    }
   ],
   "source": [
    "print(len(s1)) #we can use len() func for calculating length of the string"
   ]
  },
  {
   "cell_type": "code",
   "execution_count": 46,
   "id": "c20cb72b",
   "metadata": {},
   "outputs": [],
   "source": [
    "# Q2"
   ]
  },
  {
   "cell_type": "code",
   "execution_count": 47,
   "id": "a5cf86ba",
   "metadata": {},
   "outputs": [
    {
     "name": "stdout",
     "output_type": "stream",
     "text": [
      "Enter a sentence: My name is Sayantan\n"
     ]
    }
   ],
   "source": [
    "sen = input(\"Enter a sentence: \")"
   ]
  },
  {
   "cell_type": "code",
   "execution_count": 48,
   "id": "9d26b937",
   "metadata": {},
   "outputs": [
    {
     "name": "stdout",
     "output_type": "stream",
     "text": [
      "6\n"
     ]
    }
   ],
   "source": [
    "low_sen = sen.lower()\n",
    "count = 0\n",
    "for letter in low_sen:\n",
    "    if(letter=='a' or letter=='e' or letter=='i' or letter=='o' or letter=='u'):\n",
    "        count = count + 1\n",
    "print(count)    "
   ]
  },
  {
   "cell_type": "code",
   "execution_count": 49,
   "id": "4a11b1d6",
   "metadata": {},
   "outputs": [],
   "source": [
    "# Q3"
   ]
  },
  {
   "cell_type": "code",
   "execution_count": 50,
   "id": "9ed7a997",
   "metadata": {},
   "outputs": [],
   "source": [
    "s1 = 'sayantan'"
   ]
  },
  {
   "cell_type": "code",
   "execution_count": 51,
   "id": "b212ea3a",
   "metadata": {},
   "outputs": [
    {
     "name": "stdout",
     "output_type": "stream",
     "text": [
      "sayantan\n"
     ]
    }
   ],
   "source": [
    "print(s1)"
   ]
  },
  {
   "cell_type": "code",
   "execution_count": 52,
   "id": "04473147",
   "metadata": {},
   "outputs": [
    {
     "name": "stdout",
     "output_type": "stream",
     "text": [
      "natnayas\n"
     ]
    }
   ],
   "source": [
    "print(s1[::-1])"
   ]
  },
  {
   "cell_type": "code",
   "execution_count": 53,
   "id": "9e6c46c6",
   "metadata": {},
   "outputs": [],
   "source": [
    "# Q4"
   ]
  },
  {
   "cell_type": "code",
   "execution_count": 54,
   "id": "4c2b65b8",
   "metadata": {},
   "outputs": [
    {
     "name": "stdout",
     "output_type": "stream",
     "text": [
      "Enter a string: racecar\n"
     ]
    }
   ],
   "source": [
    "str1 = input(\"Enter a string: \")"
   ]
  },
  {
   "cell_type": "code",
   "execution_count": 55,
   "id": "23fb57d6",
   "metadata": {},
   "outputs": [
    {
     "name": "stdout",
     "output_type": "stream",
     "text": [
      "racecar is a palindrome\n"
     ]
    }
   ],
   "source": [
    "if(str1.lower() == str1.lower()[::-1]):\n",
    "    print(f\"{str1} is a palindrome\")\n",
    "else:\n",
    "    print(f\"{str1} is not a palindrome\")"
   ]
  },
  {
   "cell_type": "code",
   "execution_count": 56,
   "id": "2c18bb09",
   "metadata": {},
   "outputs": [],
   "source": [
    "# Q5"
   ]
  },
  {
   "cell_type": "code",
   "execution_count": 57,
   "id": "368567eb",
   "metadata": {},
   "outputs": [
    {
     "name": "stdout",
     "output_type": "stream",
     "text": [
      "Enter a string:      Sayantan Dinda   \n"
     ]
    }
   ],
   "source": [
    "str1 = input(\"Enter a string: \")"
   ]
  },
  {
   "cell_type": "code",
   "execution_count": 58,
   "id": "ccb9e55f",
   "metadata": {},
   "outputs": [
    {
     "name": "stdout",
     "output_type": "stream",
     "text": [
      "     Sayantan Dinda   \n"
     ]
    }
   ],
   "source": [
    "print(str1)"
   ]
  },
  {
   "cell_type": "code",
   "execution_count": 59,
   "id": "398c7fee",
   "metadata": {},
   "outputs": [],
   "source": [
    "new_str = str1.replace(\" \",\"\") #replace all the white spaces with no space\n"
   ]
  },
  {
   "cell_type": "code",
   "execution_count": 60,
   "id": "ccebeec0",
   "metadata": {},
   "outputs": [
    {
     "name": "stdout",
     "output_type": "stream",
     "text": [
      "SayantanDinda\n"
     ]
    }
   ],
   "source": [
    "print(new_str)"
   ]
  }
 ],
 "metadata": {
  "kernelspec": {
   "display_name": "Python 3 (ipykernel)",
   "language": "python",
   "name": "python3"
  },
  "language_info": {
   "codemirror_mode": {
    "name": "ipython",
    "version": 3
   },
   "file_extension": ".py",
   "mimetype": "text/x-python",
   "name": "python",
   "nbconvert_exporter": "python",
   "pygments_lexer": "ipython3",
   "version": "3.11.4"
  }
 },
 "nbformat": 4,
 "nbformat_minor": 5
}
